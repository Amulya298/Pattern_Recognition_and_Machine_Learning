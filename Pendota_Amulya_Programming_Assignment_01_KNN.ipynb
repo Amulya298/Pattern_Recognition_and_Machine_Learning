{
  "nbformat": 4,
  "nbformat_minor": 0,
  "metadata": {
    "colab": {
      "provenance": []
    },
    "kernelspec": {
      "name": "python3",
      "display_name": "Python 3"
    },
    "language_info": {
      "name": "python"
    }
  },
  "cells": [
    {
      "cell_type": "markdown",
      "metadata": {
        "id": "wVmT47LOBy6i"
      },
      "source": [
        " <center> <h1> <b> Pattern Recognition and Machine Learning (EE5607) </b> </h1> </center>\n",
        "\n",
        "<b> Programming Assignment - 01 </b>\n",
        "\n",
        "<b> Instructions </b>\n",
        "1. Plagiarism is strictly prohibited.\n",
        "2. Delayed submissions will be penalized with a scaling factor of 0.5 per day.\n",
        "3. Please DO NOT use any machine learning libraries unless and otherwise specified.\n",
        "\n",
        "NOTE: First 4 questions are taken from: http://lcsl.mit.edu/courses/cbmmss/machine_learning/labs/Lab1.html\n",
        "\n",
        "\n",
        "<b> Assignment on K-nearest neighbour </b>\n",
        "\n",
        "<b> Part - 1 :  Data Generation </b>\n",
        "1. Use Gaussian distribution with appropriate parameters and produce a dataset with four classes and 30 samples per class: the classes must live in the 2D space and be centered on the corners of the unit square (0,0), (0,1) (1,1), (1,0), all with variance 0.3.\n",
        "2. Obtain a 2-class train set [X, Y] by having data on opposite corners sharing the same class with labels +1 and -1.\n",
        "3. Generate a test set [Xte, Yte] from the same distribution, starting with 200 samples per class.\n",
        "4. Visualize both sets using scatter plot on a 2-D plane.\n"
      ]
    },
    {
      "cell_type": "code",
      "metadata": {
        "id": "Exk1ALx4LXWA"
      },
      "source": [
        "#All imports\n",
        "import numpy as np\n",
        "import matplotlib.pyplot as plt\n",
        "import random\n",
        "import math"
      ],
      "execution_count": null,
      "outputs": []
    },
    {
      "cell_type": "code",
      "source": [
        "########################################\n",
        "#Part1-(1) #Generating training data\n",
        "########################################\n",
        "#Define means and covariances\n",
        "mean1=[0,0]\n",
        "mean2=[1,0]\n",
        "mean3=[0,1]\n",
        "mean4=[1,1]\n",
        "cov=[[0.3,0],[0,0.3]]\n",
        "#You may use \"np.random.multivariate_normal\" function\n",
        "def samplepts(mean,covar,n):\n",
        "  x,y=np.random.multivariate_normal(mean,covar,n).T\n",
        "  return x,y\n",
        "ntr=30\n",
        "x1tr,y1tr=samplepts(mean1,cov,ntr)\n",
        "x2tr,y2tr=samplepts(mean2,cov,ntr)\n",
        "x3tr,y3tr=samplepts(mean3,cov,ntr)\n",
        "x4tr,y4tr=samplepts(mean4,cov,ntr)\n",
        "\n",
        "\n",
        "########################################\n",
        "#Part1-(b) #Generating training labels\n",
        "########################################\n",
        "a1tr=np.column_stack((x1tr,y1tr))\n",
        "a2tr=np.column_stack((x2tr,y2tr))\n",
        "a3tr=np.column_stack((x3tr,y3tr))\n",
        "a4tr=np.column_stack((x4tr,y4tr))\n",
        "a5tr=np.ones((ntr*2,1),int)\n",
        "a6tr=-np.ones((ntr*2,1),int)\n",
        "a7tr=np.vstack((a1tr,a4tr))\n",
        "a8tr=np.vstack((a2tr,a3tr))\n",
        "al1tr=np.column_stack((a7tr,a5tr))\n",
        "al2tr=np.column_stack((a8tr,a6tr))\n",
        "al12tr=np.vstack((al1tr,al2tr))\n",
        "########################################\n",
        "#Part1-(c) #Generating testing data with labels\n",
        "########################################\n",
        "nte=200\n",
        "x1te,y1te=samplepts(mean1,cov,nte)\n",
        "x2te,y2te=samplepts(mean2,cov,nte)\n",
        "x3te,y3te=samplepts(mean3,cov,nte)\n",
        "x4te,y4te=samplepts(mean4,cov,nte)\n",
        "\n",
        "a1te=np.column_stack((x1te,y1te))\n",
        "a2te=np.column_stack((x2te,y2te))\n",
        "a3te=np.column_stack((x3te,y3te))\n",
        "a4te=np.column_stack((x4te,y4te))\n",
        "a5te=np.ones((nte*2,1),int)\n",
        "a6te=-np.ones((nte*2,1),int)\n",
        "a7te=np.vstack((a1te,a4te))\n",
        "a8te=np.vstack((a2te,a3te))\n",
        "al1te=np.column_stack((a7te,a5te))\n",
        "al2te=np.column_stack((a8te,a6te))\n",
        "al12te=np.vstack((al1te,al2te))\n",
        "########################################\n",
        "#Part1-(d) #Visualizing data\n",
        "########################################\n",
        "plt.figure()\n",
        "plt.scatter(x1tr,y1tr,c='y',label='mean1')\n",
        "plt.scatter(x2tr,y2tr,c='b',label='mean2')\n",
        "plt.scatter(x3tr,y3tr,c='g',label='mean3')\n",
        "plt.scatter(x4tr,y4tr,c='r',label='mean4')\n",
        "plt.title('training dataset with diff means')\n",
        "plt.legend()\n",
        "plt.show()\n",
        "plt.figure()\n",
        "plt.scatter(x1tr,y1tr,c='y',label='label=1')\n",
        "plt.scatter(x2tr,y2tr,c='g',label='label=-1')\n",
        "plt.scatter(x3tr,y3tr,c='g',label='label=-1')\n",
        "plt.scatter(x4tr,y4tr,c='y',label='label=1')\n",
        "plt.title('2 class training dataset')\n",
        "plt.legend()\n",
        "plt.show()\n",
        "plt.figure()\n",
        "plt.scatter(x1te,y1te,c='y',label='label=1')\n",
        "plt.scatter(x2te,y2te,c='g',label='label=-1')\n",
        "plt.scatter(x3te,y3te,c='g',label='label=-1')\n",
        "plt.scatter(x4te,y4te,c='y',label='label=1')\n",
        "plt.title('2 class test dataset')\n",
        "plt.legend()\n",
        "plt.show()\n",
        "\n",
        "\n",
        "\n",
        "\n"
      ],
      "metadata": {
        "id": "DjgkoGQOEjis",
        "colab": {
          "base_uri": "https://localhost:8080/",
          "height": 809
        },
        "outputId": "31572120-94fb-4235-875f-c81e3ed4d9cc"
      },
      "execution_count": null,
      "outputs": [
        {
          "output_type": "display_data",
          "data": {
            "image/png": "[encoded data removed]",
            "text/plain": [
              "<Figure size 432x288 with 1 Axes>"
            ]
          },
          "metadata": {
            "needs_background": "light"
          }
        },
        {
          "output_type": "display_data",
          "data": {
            "image/png": "[encoded data removed]",
            "text/plain": [
              "<Figure size 432x288 with 1 Axes>"
            ]
          },
          "metadata": {
            "needs_background": "light"
          }
        },
        {
          "output_type": "display_data",
          "data": {
            "image/png": "[encoded data removed]",
            "text/plain": [
              "<Figure size 432x288 with 1 Axes>"
            ]
          },
          "metadata": {
            "needs_background": "light"
          }
        }
      ]
    },
    {
      "cell_type": "markdown",
      "metadata": {
        "id": "NTeUZYn2vy0H"
      },
      "source": [
        "<b> Part - 2: K-NN Classification  </b> The k-Nearest Neighbors algorithm (kNN) assigns to a test point the most frequent label of its k closest examples in the training set.\n",
        "1. Write a function kNNClassify to generate predictions Yp for the 2-class data generated at Part1. Pick a ”reasonable” k.\n",
        "2. Evaluate the classification performance (prediction error) by comparing the predicted labels Y_pred to the true labels Y_test.\n",
        "3. Visualize the obtained results, e.g. by plotting the wrongly classified points using different colors/markers\n",
        "4. Write a function to generate & visualize the decision regions of the 2D plane that are associated with each class, for a given classifier. Overlay the test points using scatter.\n"
      ]
    },
    {
      "cell_type": "code",
      "source": [
        "########################################\n",
        "#Part2-(1) #Define kNNClassify Function\n",
        "########################################\n",
        "def kNNClassify(XY_train,X_test,k):\n",
        "  d1=[]\n",
        "  for i in range(len(X_test)):\n",
        "    d1.append(distance(XY_train,X_test[i,:]))\n",
        "  d1=np.asarray(d1).T\n",
        "  #sort by distance\n",
        "  srtind=[]\n",
        "  for i in range(len(X_test)):\n",
        "    srtind.append((sortseq(d1[:,i])))\n",
        "  #print(srtind)\n",
        "  srtind=(np.asarray(srtind)).T\n",
        "  ypl=[]\n",
        "  for i in range(len(X_test)):\n",
        "     ypl.append(asglabel((srtind[:,i]),k,(len(XY_train)))) #predicted label\n",
        "    #  print(len(srtind),len(XY_train)/2)\n",
        "  return ypl\n",
        "#function to assign a label\n",
        "def asglabel(disary,k,lxt):\n",
        "  ll=[]\n",
        "  for i in range(k):\n",
        "    if (disary[i]<(lxt/2)):\n",
        "      l=1\n",
        "      ll.append(l)\n",
        "    else:\n",
        "      l=-1\n",
        "      ll.append(l)\n",
        "  lab=max(set(ll), key = ll.count)\n",
        "  return lab\n",
        "#function to sort the array\n",
        "def sortseq(arr):\n",
        "  srt=arr.argsort()\n",
        "  return srt\n",
        "#function to find the distance\n",
        "def distance(inp1,inp2):\n",
        "  b1=(inp1[:,0]-inp2[0])**2\n",
        "  b2=(inp1[:,1]-inp2[1])**2\n",
        "  dis=np.sqrt((b1+b2))\n",
        "  return dis\n",
        "\n",
        "Ypl=kNNClassify(al12tr,al12te,3)\n",
        "\n",
        "########################################\n",
        "#Part2-(2) #Define a function to evaluate the performance\n",
        "########################################\n",
        "def KNNAccuracy(true,pred):\n",
        "  z2=np.sum(np.array(true) == np.array(pred))\n",
        "  # print(z2)\n",
        "  eff=(z2/len(true))\n",
        "  return eff\n",
        "\n",
        "e=KNNAccuracy(al12te[:,2],Ypl)\n",
        "#Compute and print the classification accuracy\n",
        "print(\"for k=3 percentage accuracy:\",e)\n",
        "\n",
        "########################################\n",
        "#Part2-(c) #Plot the error points with different color\n",
        "########################################\n",
        "err=np.argwhere(al12te[:,2] != Ypl)\n",
        "err3=np.sum(al12te[:,2] != Ypl)\n",
        "err2=err.tolist()\n",
        "xer=[]\n",
        "yer=[]\n",
        "for i in range(len(err)):\n",
        "  xer.append(al12te[err[i],0])\n",
        "  yer.append(al12te[err[i],1])\n",
        "teset2=np.delete(al12te,err2,axis=0)\n",
        "plt.figure()\n",
        "plt.scatter(xer,yer,c='r',label='error_pts')\n",
        "plt.scatter(teset2[:,0],teset2[:,1],c='g',label='correct_pts')\n",
        "plt.title('error points when used knn classification on testdata')\n",
        "plt.legend()\n",
        "plt.show()\n",
        "\n",
        "\n",
        "\n"
      ],
      "metadata": {
        "id": "JJ6Ae731HkUP",
        "colab": {
          "base_uri": "https://localhost:8080/",
          "height": 298
        },
        "outputId": "437186a1-618e-40cd-f4c6-361e9a5ac96c"
      },
      "execution_count": null,
      "outputs": [
        {
          "output_type": "stream",
          "name": "stdout",
          "text": [
            "for k=3 percentage accuracy: 0.6675\n"
          ]
        },
        {
          "output_type": "display_data",
          "data": {
            "image/png": "[encoded data removed]",
            "text/plain": [
              "<Figure size 432x288 with 1 Axes>"
            ]
          },
          "metadata": {
            "needs_background": "light"
          }
        }
      ]
    },
    {
      "cell_type": "markdown",
      "source": [
        "<b> Part - 3: Parameter selection: What is good value for k?  </b>\n",
        "\n",
        "So far we considered an arbitrary choice for k. You will now wrrite the function *holdoutCVkNN* for model selection\n",
        "1. Perform hold-out cross-validation by setting aside a fraction (ρ of the training set for\n",
        "validation. Note: You may use ρ = 0.3, and repeat the procedure 10 times. The hold-out\n",
        "procedure may be quite unstable.\n",
        "\n",
        "\n",
        "> (a). Use a large range of candidate values for k (e.g. k = 1, 3, 5..., 21). Notice odd numbers are considered to avoid ties.\n",
        "\n",
        "> (b). Repeat the process for 10 times using a random cross-validation set each time with\n",
        "a ρ = 0.3\n",
        "\n",
        "> (c). Plot the training and validation errors for the different values of k.\n",
        "\n",
        "> (d). How would you now answer the question \"what is the best value for k\"?\n",
        "\n",
        "2. How is the value of k affected by ρ (percentage of points held out) and number of\n",
        "repetitions? What does a large number of repetitions provide?\n",
        "3. Apply the model obtained by cross-validation (i.e., best k) to the test set and check\n",
        "if there is an improvement on the classification error over the result of Part 2."
      ],
      "metadata": {
        "id": "UP_gGkTIAupD"
      }
    },
    {
      "cell_type": "code",
      "source": [
        "\n",
        "####################################\n",
        "#Part - 3 (1)\n",
        "####################################\n",
        "#Define holdoutCVkNN() Function\n",
        "kk=[]\n",
        "for i in range(1,22,2):\n",
        "  kk.append(i)\n",
        "\n",
        "\n",
        "\n",
        "def holdoutCVkNN(k_range,numrep,rho):\n",
        "  #Iterate through range of k values\n",
        "    #Iterate through number of repetations\n",
        "      #Hold out rho fraction of training data in each repetition.\n",
        "  errcount_tst=[] #error count for new training dataset\n",
        "  errcount_vst=[]  #error count for new validation dataset\n",
        "  for i in range(len(k_range)):\n",
        "    ectst=[]\n",
        "    ecvst=[]\n",
        "    for j in range(numrep):\n",
        "      randind=np.random.choice(al12tr.shape[0], size=np.int(rho*al12tr.shape[0]))\n",
        "      randind2=randind.tolist()\n",
        "      valset=[]\n",
        "      for jj in range(len(randind2)):\n",
        "        valset.append(al12tr[randind2[jj],:])\n",
        "      trset2=np.delete(al12tr,randind2,axis=0)\n",
        "      valset2=np.asarray(valset)\n",
        "      yp_trst=kNNClassify(trset2,trset2,k_range[i])\n",
        "      yp_vst=kNNClassify(trset2,valset2,k_range[i])\n",
        "      efftrst=KNNAccuracy(trset2[:,2],yp_trst)\n",
        "      errtrt=np.sum(trset2[:,2] != yp_trst)\n",
        "      ectst.append(errtrt)\n",
        "      effvst=KNNAccuracy(valset2[:,2],yp_vst)\n",
        "      errvst=np.sum(valset2[:,2] != yp_vst)\n",
        "      ecvst.append(errvst)\n",
        "    errcount_tst.append((k_range[i],np.mean(ectst)))\n",
        "    errcount_vst.append((k_range[i],np.mean(ecvst)))\n",
        "  return np.asarray(errcount_tst),np.asarray(errcount_vst)\n",
        "\n",
        "\n",
        "#Return errors on training and validation data\n",
        "\n",
        "er_tr,er_vst=holdoutCVkNN(kk,10,0.3)\n",
        "\n",
        "print('avg training error(in row 1) for respective k (in row 0)\\n ',er_tr)\n",
        "print('avg validation error(in row 1) for respective k (in row 0)\\n ',er_vst)\n",
        "\n",
        "#Plot training and validation errors for different values of k\n",
        "plt.figure()\n",
        "plt.scatter(er_tr[:,0],(er_tr[:,1]),c='g',label='training error')\n",
        "plt.title('training error')\n",
        "plt.legend()\n",
        "plt.show()\n",
        "plt.figure()\n",
        "plt.scatter(er_vst[:,0],(er_vst[:,1]),c='b',label='validation error')\n",
        "plt.title('validation error')\n",
        "plt.legend()\n",
        "plt.show()\n",
        "#what is the best value for k?\n",
        "####from the observations of the above plots the respective k for which there is min error in validation error is found to be best k but however this is not stable\n",
        "best_k=np.argmin(er_vst[:,1])*2+1\n",
        "print('best k value:',best_k)\n",
        "\n",
        "\n",
        "\n",
        "####################################\n",
        "#Part3 - (2): Effect of rho and number repetations on k\n",
        "####################################\n",
        "rep=[5,10,15,20]\n",
        "rho=[0.2,0.3,0.4,0.5]\n",
        "rep_rho_bk=[]\n",
        "for i in range(len(rep)):\n",
        "  for j in range(len(rho)):\n",
        "    er_tr1,er_vast1=holdoutCVkNN(kk,rep[i],rho[j])\n",
        "    best_k1=np.argmin(er_vast1[:,1])*2+1\n",
        "    rep_rho_bk.append((rep[i],rho[j],best_k1))\n",
        "print('Effect of rho and number repetations on k')\n",
        "print('rep,rho,best_k\\n',np.asarray(rep_rho_bk))\n",
        "\n",
        "\n",
        "\n",
        "\n",
        "\n",
        "\n",
        "####################################\n",
        "#Part3 - (3): Evaluate the performance on test set with the best hyper parameters ( i.e best k ).\n",
        "####################################\n",
        "\n",
        "print(\"Evaluate the performance on test set with the best hyper parameters\")\n",
        "ypltst_bestk=kNNClassify(al12tr,al12te,best_k)\n",
        "efftst_bestk=KNNAccuracy(al12te[:,2],ypltst_bestk)\n",
        "print('accuracy for the test data with best k ',efftst_bestk)\n",
        "print('accuracy for the test data with arbitrary k in 2nd que ',e)\n",
        "ypltr_bestk=kNNClassify(al12tr,al12tr,best_k)\n",
        "efftr_bestk=KNNAccuracy(al12tr[:,2],ypltr_bestk)\n",
        "print('accuracy for the train data with best k',efftr_bestk)\n",
        "\n",
        "\n",
        "\n",
        "\n",
        "\n",
        "\n"
      ],
      "metadata": {
        "id": "By2YRUCLwSe7",
        "colab": {
          "base_uri": "https://localhost:8080/",
          "height": 1000
        },
        "outputId": "e69913fd-8f64-45d3-c14e-381e90c55896"
      },
      "execution_count": null,
      "outputs": [
        {
          "output_type": "stream",
          "name": "stdout",
          "text": [
            "avg training error(in row 1) for respective k (in row 0)\n",
            "  [[ 1.   1. ]\n",
            " [ 3.  18.7]\n",
            " [ 5.  23.5]\n",
            " [ 7.  24.5]\n",
            " [ 9.  26.6]\n",
            " [11.  26.8]\n",
            " [13.  26.7]\n",
            " [15.  27.6]\n",
            " [17.  28.4]\n",
            " [19.  29.9]\n",
            " [21.  28.9]]\n",
            "avg validation error(in row 1) for respective k (in row 0)\n",
            "  [[ 1.  14. ]\n",
            " [ 3.  14. ]\n",
            " [ 5.  14. ]\n",
            " [ 7.  13.4]\n",
            " [ 9.  12.3]\n",
            " [11.  13. ]\n",
            " [13.  14.1]\n",
            " [15.  14. ]\n",
            " [17.  13.2]\n",
            " [19.  11.8]\n",
            " [21.  13.4]]\n"
          ]
        },
        {
          "output_type": "display_data",
          "data": {
            "image/png": "[encoded data removed]",
            "text/plain": [
              "<Figure size 432x288 with 1 Axes>"
            ]
          },
          "metadata": {
            "needs_background": "light"
          }
        },
        {
          "output_type": "display_data",
          "data": {
            "image/png": "[encoded data removed]",
            "text/plain": [
              "<Figure size 432x288 with 1 Axes>"
            ]
          },
          "metadata": {
            "needs_background": "light"
          }
        },
        {
          "output_type": "stream",
          "name": "stdout",
          "text": [
            "best k value: 19\n",
            "Effect of rho and number repetations on k\n",
            "rep,rho,best_k\n",
            " [[ 5.   0.2 17. ]\n",
            " [ 5.   0.3  5. ]\n",
            " [ 5.   0.4 15. ]\n",
            " [ 5.   0.5 19. ]\n",
            " [10.   0.2 19. ]\n",
            " [10.   0.3  5. ]\n",
            " [10.   0.4 21. ]\n",
            " [10.   0.5 13. ]\n",
            " [15.   0.2  9. ]\n",
            " [15.   0.3 19. ]\n",
            " [15.   0.4 11. ]\n",
            " [15.   0.5  7. ]\n",
            " [20.   0.2 17. ]\n",
            " [20.   0.3 17. ]\n",
            " [20.   0.4 21. ]\n",
            " [20.   0.5 21. ]]\n",
            "Evaluate the performance on test set with the best hyper parameters\n",
            "accuracy for the test data with best k  0.6925\n",
            "accuracy for the test data with arbitrary k in 2nd que  0.6675\n",
            "accuracy for the train data with best k 0.7083333333333334\n"
          ]
        }
      ]
    },
    {
      "cell_type": "markdown",
      "source": [
        "<b> Part - 4: Size of training data and kNN regression  </b>\n",
        "\n",
        "1. Dependence on training size: Evaluate the performance as the size of the training set\n",
        "grows, e.g., n = {50, 100, 300, 500,...}. How would you choose a good range for k as n\n",
        "changes? What can you say about the stability of the solution? Check by repeating the\n",
        "validation multiple times.\n",
        "2. Try classifying more difficult datasets, for instance, by increasing the variance or\n",
        "adding noise by randomly flipping the labels on the training set."
      ],
      "metadata": {
        "id": "J2PePhkvBCMA"
      }
    },
    {
      "cell_type": "code",
      "source": [
        "##################################\n",
        "#Part4 - (1): Performance evaluation as n increases\n",
        "##################################\n",
        "ntrst=[40,80,100,200,400,800] #######considering multiples of 4 since we have 4 diff means\n",
        "def samplepts(mean,covar,n):\n",
        "  x,y=np.random.multivariate_normal(mean,covar,n).T\n",
        "  return x,y\n",
        "def trainingset(ntrs,mean1,mean2,mean3,mean4,cov):\n",
        "  nn=int(ntrs/4)\n",
        "  x11tr,y11tr=samplepts(mean1,cov,nn)\n",
        "  x22tr,y22tr=samplepts(mean2,cov,nn)\n",
        "  x33tr,y33tr=samplepts(mean3,cov,nn)\n",
        "  x44tr,y44tr=samplepts(mean4,cov,nn)\n",
        "  a11tr=np.column_stack((x11tr,y11tr))\n",
        "  a22tr=np.column_stack((x22tr,y22tr))\n",
        "  a33tr=np.column_stack((x33tr,y33tr))\n",
        "  a44tr=np.column_stack((x44tr,y44tr))\n",
        "  a55tr=np.ones((int(ntrs/2),1),int)\n",
        "  a66tr=-np.ones((int(ntrs/2),1),int)\n",
        "  a77tr=np.vstack((a11tr,a44tr))\n",
        "  a88tr=np.vstack((a22tr,a33tr))\n",
        "  al11tr=np.column_stack((a77tr,a55tr))\n",
        "  al22tr=np.column_stack((a88tr,a66tr))\n",
        "  new_trst=np.vstack((al11tr,al22tr))\n",
        "  return new_trst\n",
        "k_n_val=[]\n",
        "for i in range(len(ntrst)):\n",
        "  nw_trst=trainingset(ntrst[i],mean1,mean2,mean3,mean4,cov)\n",
        "  er_nwtr,er_val=holdoutCVkNN(kk,10,0.3)\n",
        "  best_k_val=np.argmin(er_val[:,1])*2+1\n",
        "  k_n_val.append((ntrst[i],best_k_val))\n",
        "print('for less var(0.3) array \\n tr_dt size,best k :')\n",
        "print(np.asarray(k_n_val))\n",
        "\n",
        "\n",
        "\n",
        "##################################\n",
        "#Part4 - (2): Ablation analysis : Mention classification accuracy on dataset with changing the variance and noise level\n",
        "##################################\n",
        "cov2=[[1.3,0],[0,1.3]]\n",
        "hvar_n_k=[]\n",
        "cov2_acc=[]\n",
        "for i in range(len(ntrst)):\n",
        "  hvar_nw_trst=trainingset(ntrst[i],mean1,mean2,mean3,mean4,cov2)\n",
        "  er_nwctr,er_cval=holdoutCVkNN(kk,10,0.9)\n",
        "  hvar_best_k=np.argmin(er_cval[:,1])*2+1\n",
        "  hvar_n_k.append((ntrst[i],hvar_best_k))\n",
        "  ####code for finding accuracy\n",
        "  # yp_hvar=kNNClassify(hvar_nw_trst,al12te,hvar_best_k)\n",
        "  # hvar_acc=KNNAccuracy(hvar_nw_trst[:,2],yp_hvar)\n",
        "  # hvar_n_k.append(hvar_acc)\n",
        "print('for high var array  \\n tr_dt size,best k :')\n",
        "print(np.asarray(hvar_n_k))\n"
      ],
      "metadata": {
        "id": "bmCDoFLD05nH",
        "colab": {
          "base_uri": "https://localhost:8080/"
        },
        "outputId": "11c956aa-ab1d-406a-9e2f-58237ea9ed59"
      },
      "execution_count": null,
      "outputs": [
        {
          "output_type": "stream",
          "name": "stdout",
          "text": [
            "for less var(0.3) array \n",
            " tr_dt size,best k :\n",
            "[[ 40  21]\n",
            " [ 80  19]\n",
            " [100   9]\n",
            " [200   5]\n",
            " [400  17]\n",
            " [800  13]]\n",
            "for high var array  \n",
            " tr_dt size,best k :\n",
            "[[ 40  11]\n",
            " [ 80  11]\n",
            " [100   9]\n",
            " [200  19]\n",
            " [400   3]\n",
            " [800  13]]\n"
          ]
        }
      ]
    },
    {
      "cell_type": "markdown",
      "source": [
        "<b> Part - 5: Digit classification on MNIST data  </b>\n",
        "[[link to download MNIST data]( http://yann.lecun.com/exdb/mnist/)]\n",
        "1. Modify the function kNNClassify to handle multi-class problems and hence design a KNN classifier to classify the images in MNIST dataset as one of the 10 digits. The 28x28 images may be flattened to arrive at a 784 dimensional vector.\n",
        "> NOTE : If you had already written a kNNClassify for multi class classification in part 2, you are free to use it.\n",
        "2. Empirically determine the most suitable error function, and the corresponding k to maximize the performance on the cross-validation experiments.\n",
        "3. Apply these values to evaluate the performance on the test dataset.\n",
        "4. Create a confusion matrix to understand the most confused classes (digits).\n",
        "5. Suggest alternate ways to improve the performance.\n",
        "\n",
        "\n"
      ],
      "metadata": {
        "id": "hQ9W7st9BOVA"
      }
    },
    {
      "cell_type": "code",
      "source": [
        "#Mount the drive\n",
        "from google.colab import drive\n",
        "from mlxtend.data import loadlocal_mnist\n",
        "import matplotlib.pyplot as plt\n",
        "\n",
        "########################################\n",
        "#Part5-(1) MNIST data reading and defining MultiClassKNNClassify\n",
        "########################################\n",
        "\n",
        "# MNIST Data reading ( you may define your own function for reading MNIST data )\n",
        "#Extract .gz files and place in the drive\n",
        "drive.mount('/content/drive',force_remount=True)\n",
        "root_path='/content/drive/MyDrive/PRMLAssignments/ProgrammingAssignment-01'\n",
        "train_data_path = str(root_path) + \"/\" + 'train-images-idx3-ubyte'\n",
        "train_label_path = str(root_path) + \"/\" + 'train-labels-idx1-ubyte'\n",
        "test_data_path = str(root_path) + \"/\" + 't10k-images-idx3-ubyte'\n",
        "test_label_path = str(root_path) + \"/\" + 't10k-labels-idx1-ubyte'\n",
        "X_train, Y_train = loadlocal_mnist(images_path=train_data_path, labels_path=train_label_path)\n",
        "X_test, Y_test = loadlocal_mnist(images_path=test_data_path, labels_path=test_label_path)\n",
        "\n",
        "def MultiClassKNNClassify(X_train,Y_train,X_test,k,error_func):\n",
        "  #error_func : For empirical selection of error function. egs : euclidean or any other distance metrics\n",
        "  #Initialize an array/list to store the labels\n",
        "  #Iterate through the test data\n",
        "    #Iterate through the training data\n",
        "      #Compute the error between test data and training data\n",
        "    #Obtain k closest training data points\n",
        "    #Assign label to test point based on majority voting\n",
        "  #return Y_pred\n",
        "\n",
        "\n",
        "\n",
        "\n",
        "\n",
        "\n",
        "\n",
        "\n",
        "\n",
        "########################################\n",
        "#Part5-(2) Empirically chose most suitable k and error function based on the evauation on cross-validation data\n",
        "########################################\n",
        "#You may use fraction of training data for validation\n",
        "\n",
        "\n",
        "\n",
        "\n",
        "\n",
        "\n",
        "\n",
        "\n",
        "\n",
        "\n",
        "########################################\n",
        "#Part5-(3) Evaluate the performance on test data with the best hyper parameters ( k, error_func ) obtained from cross validation\n",
        "########################################\n",
        "\n",
        "\n",
        "\n",
        "\n",
        "\n",
        "\n",
        "\n",
        "\n",
        "\n",
        "########################################\n",
        "#Part5-(4) Create a confusion matrix for test data\n",
        "########################################\n",
        "#Define a function to obain the confusion matrix table\n",
        "def compute_confusion_matrix(true, pred):\n",
        "\n",
        "\n",
        "\n",
        "\n",
        "\n",
        "\n",
        "\n",
        "\n",
        "\n",
        "\n",
        "########################################\n",
        "#Part5-(5) Suggest an alternative ways to improve performance\n",
        "########################################\n",
        "1.\n",
        "2.\n",
        "3.\n",
        "4.\n"
      ],
      "metadata": {
        "id": "3vVynRcFZ5Kk"
      },
      "execution_count": null,
      "outputs": []
    },
    {
      "cell_type": "markdown",
      "source": [
        "<b> Report  </b>\n",
        "1. Write down the best accuracy on synthetic test data generated from Gaussian distribution\n",
        "\n",
        "2. Write down the best accuracy on MNIST validation and test data.\n",
        "\n",
        "3. Report your analysis\n",
        "\n",
        "\n",
        "\n"
      ],
      "metadata": {
        "id": "OohdgUOoAenj"
      }
    }
  ]
}