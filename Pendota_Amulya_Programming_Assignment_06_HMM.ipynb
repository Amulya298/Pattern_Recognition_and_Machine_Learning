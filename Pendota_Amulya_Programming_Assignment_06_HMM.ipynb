{
  "nbformat": 4,
  "nbformat_minor": 0,
  "metadata": {
    "colab": {
      "provenance": []
    },
    "kernelspec": {
      "name": "python3",
      "display_name": "Python 3"
    },
    "language_info": {
      "name": "python"
    }
  },
  "cells": [
    {
      "cell_type": "markdown",
      "metadata": {
        "id": "wVmT47LOBy6i"
      },
      "source": [
        " <center> <h1> <b> Pattern Recognition and Machine Learning (EE5610) </b> </h1> </center>\n",
        "\n",
        "<b> Programming Assignment - 06 - Isolated digit recognition using Hidden Markov Model (HMM) </b>\n",
        "\n",
        "<b> Instructions </b>\n",
        "1. Plagiarism is strictly prohibited.\n",
        "2. Delayed submissions will be penalized with a scaling factor of 0.5 per day.\n",
        "3. Please DO NOT use any machine learning libraries unless and otherwise specified.\n",
        "\n",
        "\n",
        "\n",
        "<b> Assignment on Hidden Markov Models </b> <br>\n",
        "We expect you to learn to build HMMs in this programming assignment. The skeleton code is provided for you to understand the algorithm. In the later part of the assignment, you need to build an N state HMM to perform isolated digit recognition task\\. Isolated digit recognition is the task of recognizing the digit from the test speech signal having a single digit in isolation.\n",
        "\n",
        "\n"
      ]
    },
    {
      "cell_type": "markdown",
      "source": [
        "**Part 1): Understanding the parameters of the Hidden Markov Model (HMM)**\n",
        "\n",
        "In this part of the assignment, you will understand the functionality of the different parameters of the Hidden Markov Model (HMM). Specifically, we will sample the observations from the HMM model with different parameters to understand their influence. Let us consider the 4-state HMM with 2D observations and assume that the states of the HMM follow the Gaussian distribution.\n",
        "\n",
        "1. **Understanding the functionality of transition matrix** :\n",
        "\n",
        "  i. Change the transition matrix of the HMM i.e skipping some transitions, having different strengths for particular state transitions, etc\n",
        "\n",
        "  ii. Sample the sequence of observations with the original and altered transition matrix and plot them\n",
        "\n",
        "  iii. Write your obervations for each case in the report.\n",
        "\n",
        "2. **Understanding the functionality of emission probability** :\n",
        "\n",
        "  i. Change the mean of the Gaussian in each state of the HMM i.e means as conrners of sqaures  etc.\n",
        "\n",
        "  ii. Change covariance matrix of the Gaussian in each state of the HMM i.e Isotropic, diagonal, full etc.\n",
        "\n",
        "  ii. Sample the sequence of observations with the original and altered Gausian distribution and plot them\n",
        "  \n",
        "  iii. Write your obervations for each case in the report."
      ],
      "metadata": {
        "id": "_XYvdsjEFE7d"
      }
    },
    {
      "cell_type": "code",
      "source": [
        "#All imports\n",
        "!pip install hmmlearn\n",
        "from hmmlearn import hmm\n",
        "import numpy as np\n",
        "import librosa"
      ],
      "metadata": {
        "id": "6JvkIwm_SX52",
        "colab": {
          "base_uri": "https://localhost:8080/"
        },
        "outputId": "8b5b360a-aaf3-41df-a8fc-fbffd29abba3"
      },
      "execution_count": null,
      "outputs": [
        {
          "output_type": "stream",
          "name": "stdout",
          "text": [
            "Requirement already satisfied: hmmlearn in /usr/local/lib/python3.7/dist-packages (0.2.7)\n",
            "Requirement already satisfied: numpy>=1.10 in /usr/local/lib/python3.7/dist-packages (from hmmlearn) (1.21.6)\n",
            "Requirement already satisfied: scipy>=0.19 in /usr/local/lib/python3.7/dist-packages (from hmmlearn) (1.4.1)\n",
            "Requirement already satisfied: scikit-learn>=0.16 in /usr/local/lib/python3.7/dist-packages (from hmmlearn) (1.0.2)\n",
            "Requirement already satisfied: threadpoolctl>=2.0.0 in /usr/local/lib/python3.7/dist-packages (from scikit-learn>=0.16->hmmlearn) (3.1.0)\n",
            "Requirement already satisfied: joblib>=0.11 in /usr/local/lib/python3.7/dist-packages (from scikit-learn>=0.16->hmmlearn) (1.1.0)\n"
          ]
        }
      ]
    },
    {
      "cell_type": "code",
      "metadata": {
        "id": "OugC4Psb9pdw",
        "colab": {
          "base_uri": "https://localhost:8080/",
          "height": 670
        },
        "outputId": "44dac84b-e903-4170-ab32-dc7969dff32e"
      },
      "source": [
        "#You can use the built in hmm functions to generate the samples\n",
        "#Set different types of transition matrix as initialization and generate the observations\n",
        "#Let us use the four state hmm\n",
        "\n",
        "#Set the prior probabilities. Note: It should follow the axioms of probability.\n",
        "startprob = np.array([0.6,0.1,0.1,0.2])\n",
        "\n",
        "#Initialize the mean of the Gaussian in each state ( four states with single gaussian )\n",
        "means_sqr = np.array([ [0,0] ,  [0,15] , [15,0] ,[15,15] ])\n",
        "means_rhomb = np.array([ [5,0] ,  [0,10] , [5,20] ,[10,10] ])\n",
        "#Initialize the covariance of the Gaussians in each state\n",
        "covars_full = np.array([[[1,0.1],[0.1,1]],[[0.2,0.01],[0.01,0.5]],[[0.4,0.2],[0.2,0.3]],[[0.2,0.1],[0.1,0.3]]])\n",
        "covars_diag = np.array([[1,0.1],[0.02,5],[4,0.3],[2,3]])\n",
        "covars_tied = np.array([[0.2,0.01],[0.01,0.5]])\n",
        "#covars_iso = np.array([[[1]],[[2]],[[2]],[[1]]])\n",
        "covars_iso = np.array([[[2,1],[1,2]],[[2,1],[1,2]],[[2,1],[1,2]],[[2,1],[1,2]]])\n",
        "#covars=np.random.rand(4,2,2)\n",
        "#Initialize the transition matrix of the HMM\n",
        "transmat_ori = np.array([[0.4,0.3,0.2,0.1],[0.3,0.2,0.1,0.4],[0.2,0.1,0.3,0.4],[0.1,0.3,0.4,0.2,]])\n",
        "transmat_alt = np.array([[0.6,0.4,0,0],[0,0.5,0.5,0],[0,0,0.7,0.3],[0.5,0,0,0.5]])\n",
        "#Build an HMM instance\n",
        "model = hmm.GaussianHMM(n_components=4, covariance_type=\"full\") #hmm.HMMGMM() for replacing the single Gaussian with the Mixture of Gaussians\n",
        "\n",
        "# Set the above parameters in hmm model ( )\n",
        "model.startprob_ = startprob\n",
        "model.transmat_ = transmat_ori\n",
        "model.means_ = means_sqr\n",
        "model.covars_ = covars_full\n",
        "\n",
        "\n",
        "# Sample observation sequence of 500 length from the HMM model\n",
        "X_ori, Z_ori = model.sample(500)\n",
        "# Plot the observation sequence\n",
        "import matplotlib.pyplot as plt\n",
        "\n",
        "plt.figure(figsize=(5,5))\n",
        "plt.subplot(3,2,1)\n",
        "plt.title('orgnl trans,sqr means,cov_full')\n",
        "plt.plot(X_ori[:,0],X_ori[:,1])\n",
        "\n",
        "model_calt = hmm.GaussianHMM(n_components=4, covariance_type=\"full\") #hmm.HMMGMM() for replacing the single Gaussian with the Mixture of Gaussians\n",
        "\n",
        "# Set the above parameters in hmm model ( )\n",
        "model_calt.startprob_ = startprob\n",
        "model_calt.transmat_ = transmat_alt\n",
        "model_calt.means_ = means_sqr\n",
        "model_calt.covars_ = covars_full\n",
        "\n",
        "# Sample observation sequence of 500 length from the HMM model\n",
        "X_alt, Z_alt = model_calt.sample(500)\n",
        "# Plot the observation sequence\n",
        "import matplotlib.pyplot as plt\n",
        "\n",
        "plt.figure(figsize=(5,5))\n",
        "plt.subplot(3,2,2)\n",
        "plt.title('altrd trans,sqr means,cov_full')\n",
        "plt.plot(X_alt[:,0],X_alt[:,1])\n",
        "\n",
        "model_malt = hmm.GaussianHMM(n_components=4, covariance_type=\"full\") #hmm.HMMGMM() for replacing the single Gaussian with the Mixture of Gaussians\n",
        "\n",
        "# Set the above parameters in hmm model ( )\n",
        "model_malt.startprob_ = startprob\n",
        "model_malt.transmat_ = transmat_ori\n",
        "model_malt.means_ = means_rhomb\n",
        "model_malt.covars_ = covars_full\n",
        "\n",
        "# Sample observation sequence of 500 length from the HMM model\n",
        "X_malt, Z_malt=model_malt.sample(500)\n",
        "# Plot the observation sequence\n",
        "import matplotlib.pyplot as plt\n",
        "\n",
        "plt.figure(figsize=(5,5))\n",
        "plt.subplot(3,2,3)\n",
        "plt.title('orgnl trans,rhom means,cov_full')\n",
        "plt.plot(X_malt[:,0],X_malt[:,1])\n",
        "\n",
        "model_cdalt = hmm.GaussianHMM(n_components=4, covariance_type=\"diag\") #hmm.HMMGMM() for replacing the single Gaussian with the Mixture of Gaussians\n",
        "\n",
        "# Set the above parameters in hmm model ( )\n",
        "model_cdalt.startprob_ = startprob\n",
        "model_cdalt.transmat_ = transmat_ori\n",
        "model_cdalt.means_ = means_sqr\n",
        "model_cdalt.covars_ = covars_diag\n",
        "\n",
        "# Sample observation sequence of 500 length from the HMM model\n",
        "X_cdalt, Z_cdalt = model_cdalt.sample(500)\n",
        "# Plot the observation sequence\n",
        "import matplotlib.pyplot as plt\n",
        "\n",
        "plt.figure(figsize=(5,5))\n",
        "plt.subplot(3,2,4)\n",
        "plt.title('orgnl trans,sqr means,cov_diag')\n",
        "plt.plot(X_cdalt[:,0],X_cdalt[:,1])\n",
        "\n",
        "model_cialt = hmm.GaussianHMM(n_components=4, covariance_type=\"tied\") #hmm.HMMGMM() for replacing the single Gaussian with the Mixture of Gaussians\n",
        "\n",
        "# Set the above parameters in hmm model ( )\n",
        "model_cialt.startprob_ = startprob\n",
        "model_cialt.transmat_ = transmat_ori\n",
        "model_cialt.means_ = means_sqr\n",
        "model_cialt.covars_ = covars_tied\n",
        "\n",
        "# Sample observation sequence of 500 length from the HMM model\n",
        "X_cialt, Z_cialt=model_cialt.sample(500)\n",
        "# Plot the observation sequence\n",
        "import matplotlib.pyplot as plt\n",
        "\n",
        "plt.figure(figsize=(5,5))\n",
        "plt.subplot(3,2,5)\n",
        "plt.title('orgnl trans,sqr means,cov_tied')\n",
        "plt.plot(X_cialt[:,0],X_cialt[:,1])"
      ],
      "execution_count": null,
      "outputs": [
        {
          "output_type": "execute_result",
          "data": {
            "text/plain": [
              "[<matplotlib.lines.Line2D at 0x7f790194e810>]"
            ]
          },
          "metadata": {},
          "execution_count": 89
        },
        {
          "output_type": "display_data",
          "data": {
            "text/plain": [
              "<Figure size 360x360 with 1 Axes>"
            ],
            "image/png": "[encoded data removed]"
          },
          "metadata": {
            "needs_background": "light"
          }
        },
        {
          "output_type": "display_data",
          "data": {
            "text/plain": [
              "<Figure size 360x360 with 1 Axes>"
            ],
            "image/png": "[encoded data removed]"
          },
          "metadata": {
            "needs_background": "light"
          }
        },
        {
          "output_type": "display_data",
          "data": {
            "text/plain": [
              "<Figure size 360x360 with 1 Axes>"
            ],
            "image/png": "[encoded data removed]"
          },
          "metadata": {
            "needs_background": "light"
          }
        },
        {
          "output_type": "display_data",
          "data": {
            "text/plain": [
              "<Figure size 360x360 with 1 Axes>"
            ],
            "image/png": "[encoded data removed]"
          },
          "metadata": {
            "needs_background": "light"
          }
        },
        {
          "output_type": "display_data",
          "data": {
            "text/plain": [
              "<Figure size 360x360 with 1 Axes>"
            ],
            "image/png": "[encoded data removed]"
          },
          "metadata": {
            "needs_background": "light"
          }
        }
      ]
    },
    {
      "cell_type": "markdown",
      "source": [
        "obs:when transmission matrix with skipped states is used we can clearly see that, the model doesn't pass through all the states as done when original transmission matrix is consider.\n",
        "when mean is altered we can see a different shape compared to previous ones\n",
        "when cov matrix is altered to diag, full, tied we can see the change in the figure in terms of transition thickness lines from one sstate to other"
      ],
      "metadata": {
        "id": "5Y4o_p4KJSBF"
      }
    },
    {
      "cell_type": "markdown",
      "source": [
        "**Part 2): Isolated Digit Recognition**\n",
        "\n",
        "In this part of assignment you have to implement the isolated digit recognition system using HMM.\n",
        "1. Record 5 to 10 repetition each of digits zero,one,two,three,four,five,six,seven,eight and nine (for testing on recorded data). (The modules to record the voice in online mode are provided here. If you are not comfortable using the online recording modules, you can record the digits offline and access them in google colab through proper codes.)\n",
        "2. Compute MFCC features ( sequence of observations). (The codes to compute the signal's templates ( Mel Frequency Cepstral Coefficients ) are provided. Please use them to obtain the templates of the speech signals.)\n",
        "3. Train a N state HMM model for each digit and store the model\n",
        "3. Compute the probability of generating test observation sequence given the trained model of the digits. P(O/λw)\n",
        "4. Get the predicted label from P(O/λw) where 0<=w<=9\n",
        "5. Repeat the above experiment by increasing number of states (N) in word HMM ranging from 5 to 15. Report your accuracy and observations.\n",
        "6. Repeat the above experiment with varying the number of states across the digits i.e you may use large number of states for large digits. Report the accuracy and observations.\n",
        "7. Experiment with GMM and Single Gaussian for both single speaker ( recorded  ) and multiple speakers ( provided ) digits data base. Write the digit recognition accuracy, i.e., the percentage of correctly recognized trials out of each digit's total number of attempts and report your analysis in the report section.\n",
        "7. Create a confusion matrix and report the most confusing digits.\n",
        "8. Compare the performance with that obtained using DTW algorithm (in previous assignment).\n",
        "\n",
        "[link to multi speaker digit data base](https://drive.google.com/drive/folders/1faRFWAkGA8tEm_g5VbDyZCvmsn05CWT6?usp=sharing)"
      ],
      "metadata": {
        "id": "2C8qNvPcE-GY"
      }
    },
    {
      "cell_type": "markdown",
      "source": [
        "**Module to record the voice in online mode**"
      ],
      "metadata": {
        "id": "m480_vmo-PDO"
      }
    },
    {
      "cell_type": "code",
      "source": [
        "from IPython.display import Javascript\n",
        "from google.colab import output\n",
        "from base64 import b64decode\n",
        "from io import BytesIO\n",
        "!pip -q install pydub\n",
        "from pydub import AudioSegment\n",
        "\n",
        "RECORD = \"\"\"\n",
        "const sleep  = time => new Promise(resolve => setTimeout(resolve, time))\n",
        "const b2text = blob => new Promise(resolve => {\n",
        "  const reader = new FileReader()\n",
        "  reader.onloadend = e => resolve(e.srcElement.result)\n",
        "  reader.readAsDataURL(blob)\n",
        "})\n",
        "var record = time => new Promise(async resolve => {\n",
        "  stream = await navigator.mediaDevices.getUserMedia({ audio: true })\n",
        "  recorder = new MediaRecorder(stream)\n",
        "  chunks = []\n",
        "  recorder.ondataavailable = e => chunks.push(e.data)\n",
        "  recorder.start()\n",
        "  await sleep(time)\n",
        "  recorder.onstop = async ()=>{\n",
        "    blob = new Blob(chunks)\n",
        "    text = await b2text(blob)\n",
        "    resolve(text)\n",
        "  }\n",
        "  recorder.stop()\n",
        "})\n",
        "\"\"\"\n",
        "\n",
        "def record(sec=3):\n",
        "  display(Javascript(RECORD))\n",
        "  s = output.eval_js('record(%d)' % (sec*1000))\n",
        "  b = b64decode(s.split(',')[1])\n",
        "  audio = AudioSegment.from_file(BytesIO(b))\n",
        "  return audio"
      ],
      "metadata": {
        "id": "3JKlP1yv-NTQ"
      },
      "execution_count": null,
      "outputs": []
    },
    {
      "cell_type": "code",
      "source": [
        "from matplotlib import pyplot as plt\n",
        "import numpy as np\n",
        "import scipy.io.wavfile\n",
        "import io\n",
        "import os\n",
        "\n",
        "#### Please comment below line, if you already uploaded the 'recording.wav' in '/content/'\n",
        "!rm recording.wav\n",
        "\n",
        "#### You can run this module in the loop to record more repetitions of the digits.\n",
        "if os.path.isfile('recording.wav'):\n",
        "    print(\"wavefile exists, later part of the code uses 'recording.wav' as input speech\")\n",
        "else:\n",
        "    print(\"Recording the digits\")\n",
        "    wav = record(3.0) #It will record three seconds of your speech. You can change the duration.\n",
        "    wav = wav.set_frame_rate(16000)\n",
        "    sig=wav.get_array_of_samples()\n",
        "    samples=np.array(sig).T.astype(np.float32)\n",
        "    fp_arr = np.array(samples).T.astype(np.float32)\n",
        "    fp_arr /= np.iinfo(sig.typecode).max\n",
        "    scipy.io.wavfile.write('recording.wav', 16000, fp_arr) #Please change the name."
      ],
      "metadata": {
        "id": "Nk2Bafd0-ftW"
      },
      "execution_count": null,
      "outputs": []
    },
    {
      "cell_type": "markdown",
      "source": [
        "**Code to compute the signal's templates i.e Mel Frequency Cepstral Coefficients**"
      ],
      "metadata": {
        "id": "JiYEW-MM-s-X"
      }
    },
    {
      "cell_type": "code",
      "source": [
        "!pip -q install python_speech_features\n",
        "!pip -q install speechpy\n",
        "from python_speech_features import mfcc\n",
        "import speechpy\n",
        "import scipy.io.wavfile as wav\n",
        "def MFCC(wavfile):\n",
        "  ###########################\n",
        "  # Input  : Signal of length t\n",
        "  # Output : Templates of size (T,30) where T is the number of frames and 30 is dimension of the feature for each frame\n",
        "  ###########################\n",
        "  (rate,sig) = wav.read(wavfile)\n",
        "  sig=sig-np.mean(sig)\n",
        "  mfcc_feat=mfcc(sig,rate,numcep=30,winlen=0.025,winstep=0.01,nfilt=30,lowfreq=20,highfreq=7600,winfunc=np.hamming)\n",
        "  mfcc_feat_cmvn=speechpy.processing.cmvnw(mfcc_feat,win_size=301,variance_normalization=False)\n",
        "  return mfcc_feat_cmvn"
      ],
      "metadata": {
        "id": "Adz8ICzR-ucf"
      },
      "execution_count": null,
      "outputs": []
    },
    {
      "cell_type": "markdown",
      "metadata": {
        "id": "cns29KhMzx1O"
      },
      "source": [
        "**Write a function to train Hidden Markov Model (HMM) and return the trained models**"
      ]
    },
    {
      "cell_type": "code",
      "metadata": {
        "id": "RiDXdEjFznhn"
      },
      "source": [
        "def hmm(TrainingDataset):\n",
        "    #Input trainng dataset\n",
        "    #Output trained HMM models\n",
        "    #You may use \"hmm.GMMHMM\" or \"hmm.GaussianHMM\" function and fit method to train the models\n",
        "    #Experiment with GMM and Single Gaussian for both single speaker ( recorded  ) and multiple speakers ( provided ) digits data base.\n",
        "\n",
        "\n",
        "\n",
        "    #Return the trained model\n",
        "\n",
        ""
      ],
      "execution_count": null,
      "outputs": []
    },
    {
      "cell_type": "markdown",
      "metadata": {
        "id": "O71f9Rvl0iQJ"
      },
      "source": [
        "**Write a function to perform isolated digit recognition**"
      ]
    },
    {
      "cell_type": "code",
      "metadata": {
        "id": "4KCNfmGznk-N"
      },
      "source": [
        "def TrainTestSplit(datadir,TrainPercentage):\n",
        "    #Takes input as the data set location and percentage of training data to be used\n",
        "\n",
        "\n",
        "\n",
        "\n",
        "    #Compute MFCC features ( delta and delta+delta ) ( you can use built in functions )\n",
        "\n",
        "\n",
        "\n",
        "\n",
        "    #Return the data set\n",
        "\n",
        "\n",
        "\n",
        "\n",
        "\n"
      ],
      "execution_count": null,
      "outputs": []
    },
    {
      "cell_type": "code",
      "metadata": {
        "id": "xQ3ABBcj0hbK"
      },
      "source": [
        "def IsolatedDigitRecognition():\n",
        "    trainDir = '/content/drive/MyDrive/datadir/' #Location to your data directory in google drive\n",
        "    #Load data from the data directory ( use TrainTestSplit function to get separate splits )\n",
        "    Train_data, Test_data = TrainTestSplit() # Pass the arguments\n",
        "\n",
        "\n",
        "    #Train HMM models for all the digits ( zero,one,two,three,four,five,six,seven,eight,nine and ten )\n",
        "\n",
        "\n",
        "\n",
        "    #Testing\n",
        "    #Iterate through the test data set\n",
        "\n",
        "\n",
        "\n",
        "      #Extract the features for test speech signal\n",
        "\n",
        "\n",
        "\n",
        "      #Compute the probability of generating sequece of observations ( test speech signal MFCC features ) given the trained hmm models of the digits p(O/Trained word model)\n",
        "\n",
        "\n",
        "\n",
        "      #Get the digit model achieving highest probability in generating the sequence\n",
        "\n",
        "\n",
        "\n",
        "\n",
        "  # We have original labels of the test data and predicted labels from the Hidden Markov Models (HMM)\n",
        "  # Compute the test accuracy and report in the observations\n",
        "\n",
        ""
      ],
      "execution_count": null,
      "outputs": []
    },
    {
      "cell_type": "code",
      "source": [
        "# Confusion matrix\n",
        "\n",
        "\n",
        "\n"
      ],
      "metadata": {
        "id": "phVJEk08R_qH"
      },
      "execution_count": null,
      "outputs": []
    },
    {
      "cell_type": "markdown",
      "metadata": {
        "id": "jpD8yXVl5Jef"
      },
      "source": [
        "**Report**\n",
        "\n",
        "1.\n",
        "\n",
        "2.\n",
        "\n",
        "3."
      ]
    }
  ]
}